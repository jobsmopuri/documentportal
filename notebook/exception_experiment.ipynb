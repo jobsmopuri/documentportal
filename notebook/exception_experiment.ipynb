{
 "cells": [
  {
   "cell_type": "code",
   "execution_count": 7,
   "id": "ab2b7b6d",
   "metadata": {},
   "outputs": [
    {
     "ename": "DocuementPortalException",
     "evalue": "\n            Error in [C:\\Users\\Sivakumar.Mopuri\\AppData\\Local\\Temp\\ipykernel_33480\\2534277230.py] at line [24]\n            Message: division by zero\n            Traceback: Traceback (most recent call last):\n  File \"C:\\Users\\Sivakumar.Mopuri\\AppData\\Local\\Temp\\ipykernel_33480\\2534277230.py\", line 24, in <module>\n    a = 1 / 0\n        ~~^~~\nZeroDivisionError: division by zero\n\n        ",
     "output_type": "error",
     "traceback": [
      "\u001b[31m---------------------------------------------------------------------------\u001b[39m",
      "\u001b[31mZeroDivisionError\u001b[39m                         Traceback (most recent call last)",
      "\u001b[36mCell\u001b[39m\u001b[36m \u001b[39m\u001b[32mIn[7]\u001b[39m\u001b[32m, line 24\u001b[39m\n\u001b[32m     23\u001b[39m \u001b[38;5;28;01mtry\u001b[39;00m:\n\u001b[32m---> \u001b[39m\u001b[32m24\u001b[39m     a = \u001b[32;43m1\u001b[39;49m\u001b[43m \u001b[49m\u001b[43m/\u001b[49m\u001b[43m \u001b[49m\u001b[32;43m0\u001b[39;49m\n\u001b[32m     25\u001b[39m     \u001b[38;5;28mprint\u001b[39m(\u001b[33m\"\u001b[39m\u001b[33mException\u001b[39m\u001b[33m\"\u001b[39m)\n",
      "\u001b[31mZeroDivisionError\u001b[39m: division by zero",
      "\nDuring handling of the above exception, another exception occurred:\n",
      "\u001b[31mDocuementPortalException\u001b[39m                  Traceback (most recent call last)",
      "\u001b[36mCell\u001b[39m\u001b[36m \u001b[39m\u001b[32mIn[7]\u001b[39m\u001b[32m, line 29\u001b[39m\n\u001b[32m     27\u001b[39m app_exe = DocuementPortalException(ex,sys)\n\u001b[32m     28\u001b[39m logger.error(app_exe)\n\u001b[32m---> \u001b[39m\u001b[32m29\u001b[39m \u001b[38;5;28;01mraise\u001b[39;00m app_exe\n",
      "\u001b[31mDocuementPortalException\u001b[39m: \n            Error in [C:\\Users\\Sivakumar.Mopuri\\AppData\\Local\\Temp\\ipykernel_33480\\2534277230.py] at line [24]\n            Message: division by zero\n            Traceback: Traceback (most recent call last):\n  File \"C:\\Users\\Sivakumar.Mopuri\\AppData\\Local\\Temp\\ipykernel_33480\\2534277230.py\", line 24, in <module>\n    a = 1 / 0\n        ~~^~~\nZeroDivisionError: division by zero\n\n        "
     ]
    }
   ],
   "source": [
    "import sys\n",
    "import traceback\n",
    "from logger.custom_logger import CustomLogger\n",
    "logger = CustomLogger().get_logger(\"exception_experiment.ipynb\")\n",
    "\n",
    "class DocuementPortalException(Exception):\n",
    "    \"\"\"Custome Exception for Document Portal\"\"\"\n",
    "    def __init__(self,error_message:str,error_details:sys):\n",
    "        _,_,exe_tb = error_details.exc_info()\n",
    "        self.file_name = exe_tb.tb_frame.f_code.co_filename\n",
    "        self.lineno = exe_tb.tb_lineno\n",
    "        self.error_message = str(error_message)\n",
    "        self.traceback_str = \"\".join(traceback.format_exception(*error_details.exc_info()))\n",
    "\n",
    "    def __str__(self):\n",
    "        return f\"\"\"\n",
    "            Error in [{self.file_name}] at line [{self.lineno}]\n",
    "            Message: {self.error_message}\n",
    "            Traceback: {self.traceback_str}\n",
    "        \"\"\"\n",
    "\n",
    "if __name__ == \"__main__\":\n",
    "    try:\n",
    "        a = 1 / 0\n",
    "        print(\"Exception\")\n",
    "    except Exception as ex:\n",
    "        app_exe = DocuementPortalException(ex,sys)\n",
    "        logger.error(app_exe)\n",
    "        raise app_exe\n"
   ]
  },
  {
   "cell_type": "code",
   "execution_count": 6,
   "id": "7b9be071",
   "metadata": {},
   "outputs": [
    {
     "data": {
      "text/plain": [
       "<Logger custom_logger.py (WARNING)>"
      ]
     },
     "execution_count": 6,
     "metadata": {},
     "output_type": "execute_result"
    }
   ],
   "source": [
    "from logger.custom_logger import CustomLogger\n",
    "CustomLogger.get_logger(\"Exception_experiment.ipynb\")"
   ]
  },
  {
   "cell_type": "code",
   "execution_count": null,
   "id": "f0553898",
   "metadata": {},
   "outputs": [],
   "source": []
  },
  {
   "cell_type": "code",
   "execution_count": null,
   "id": "8c64f095",
   "metadata": {},
   "outputs": [],
   "source": []
  }
 ],
 "metadata": {
  "kernelspec": {
   "display_name": "Python 3",
   "language": "python",
   "name": "python3"
  },
  "language_info": {
   "codemirror_mode": {
    "name": "ipython",
    "version": 3
   },
   "file_extension": ".py",
   "mimetype": "text/x-python",
   "name": "python",
   "nbconvert_exporter": "python",
   "pygments_lexer": "ipython3",
   "version": "3.13.0"
  }
 },
 "nbformat": 4,
 "nbformat_minor": 5
}
