{
 "cells": [
  {
   "cell_type": "code",
   "execution_count": null,
   "id": "ab2b7b6d",
   "metadata": {},
   "outputs": [],
   "source": [
    "import sys\n",
    "import traceback\n",
    "from logger.custom_logger import CustomLogger\n",
    "logger = CustomLogger().get_logger(\"exception_experiment.ipynb\")\n",
    "\n",
    "class DocuementPortalException(Exception):\n",
    "    \"\"\"Custome Exception for Document Portal\"\"\"\n",
    "    def __init__(self,error_message:str,error_details:sys):\n",
    "        _,_,exe_tb = error_details.exc_info()\n",
    "        self.file_name = exe_tb.tb_frame.f_code.co_filename\n",
    "        self.lineno = exe_tb.tb_lineno\n",
    "        self.error_message = str(error_message)\n",
    "        self.traceback_str = \"\".join(traceback.format_exception(*error_details.exc_info()))\n",
    "\n",
    "    def __str__(self):\n",
    "        return f\"\"\"\n",
    "            Error in [{self.file_name}] at line [{self.lineno}]\n",
    "            Message: {self.error_message}\n",
    "            Traceback: {self.traceback_str}\n",
    "        \"\"\"\n",
    "\n",
    "if __name__ == \"__main__\":\n",
    "    try:\n",
    "        a = 1 / 0\n",
    "        print(\"Exception\")\n",
    "    except Exception as ex:\n",
    "        app_exe = DocuementPortalException(ex,sys)\n",
    "        logger.error(app_exe)\n",
    "        raise app_exe\n"
   ]
  },
  {
   "cell_type": "code",
   "execution_count": null,
   "id": "7b9be071",
   "metadata": {},
   "outputs": [],
   "source": [
    "from logger.custom_logger import CustomLogger\n",
    "CustomLogger.get_logger(\"Exception_experiment.ipynb\")"
   ]
  },
  {
   "cell_type": "code",
   "execution_count": null,
   "id": "f0553898",
   "metadata": {},
   "outputs": [],
   "source": []
  },
  {
   "cell_type": "code",
   "execution_count": null,
   "id": "8c64f095",
   "metadata": {},
   "outputs": [],
   "source": []
  }
 ],
 "metadata": {
  "kernelspec": {
   "display_name": "Python 3",
   "language": "python",
   "name": "python3"
  },
  "language_info": {
   "codemirror_mode": {
    "name": "ipython",
    "version": 3
   },
   "file_extension": ".py",
   "mimetype": "text/x-python",
   "name": "python",
   "nbconvert_exporter": "python",
   "pygments_lexer": "ipython3",
   "version": "3.13.0"
  }
 },
 "nbformat": 4,
 "nbformat_minor": 5
}
